{
 "cells": [
  {
   "cell_type": "code",
   "execution_count": 12,
   "metadata": {},
   "outputs": [
    {
     "name": "stdout",
     "output_type": "stream",
     "text": [
      "The autoreload extension is already loaded. To reload it, use:\n",
      "  %reload_ext autoreload\n"
     ]
    }
   ],
   "source": [
    "%load_ext autoreload\n",
    "%autoreload 2\n",
    "import sys\n",
    "sys.path.append('/home/hpc-rosneft/drigo/surrogate/src/')\n",
    "import numpy as np\n",
    "import pandas as pd\n",
    "\n",
    "from netcdftools import MyNetCDF\n",
    "from feature_table import FeatureTable\n",
    "import dataset as dset\n",
    "from main import Main"
   ]
  },
  {
   "cell_type": "code",
   "execution_count": 13,
   "metadata": {},
   "outputs": [],
   "source": [
    "coords = [78,84]\n",
    "ncdf = MyNetCDF(path='data/land-exapmle-int.nc')\n",
    "point = list(ncdf.coords_to_index(coords)[0].data)"
   ]
  },
  {
   "cell_type": "code",
   "execution_count": 14,
   "metadata": {},
   "outputs": [],
   "source": [
    "X_vars = ['thick_cr2smos','Thickness','icethic_cea','ice_conc', 'iceconc','tair','votemper','vosaline','radlw','radsw']\n",
    "y_var='thick_cr2smos'\n",
    "years = [2010,2011,2012,2013]"
   ]
  },
  {
   "cell_type": "code",
   "execution_count": 15,
   "metadata": {},
   "outputs": [],
   "source": [
    "deltas = [5,5]\n",
    "idx = [[point[0] - deltas[0], point[0] + deltas[0] + 1],\n",
    "       [point[1] - deltas[1], point[1] + deltas[1] + 1]]\n",
    "idx = np.array(idx)\n",
    "a = list(range(idx[0][0], idx[0][1]))\n",
    "b = list(range(idx[1][0], idx[1][1]))\n",
    "import itertools\n",
    "c = list(itertools.product(a, b))"
   ]
  },
  {
   "cell_type": "code",
   "execution_count": 16,
   "metadata": {},
   "outputs": [],
   "source": [
    "dates = pd.date_range(start='1/1/2010', end='31/12/2013')\n",
    "dates = [d.strftime('%Y-%m-%d %H:%M:%S') for d in dates]"
   ]
  },
  {
   "cell_type": "code",
   "execution_count": 17,
   "metadata": {},
   "outputs": [
    {
     "name": "stdout",
     "output_type": "stream",
     "text": [
      "(88, 203)\n",
      "(88, 204)\n",
      "(88, 205)\n",
      "(88, 206)\n",
      "(88, 207)\n",
      "(88, 208)\n",
      "(88, 209)\n",
      "(88, 210)\n",
      "(88, 211)\n",
      "(88, 212)\n",
      "(88, 213)\n",
      "(89, 203)\n",
      "(89, 204)\n",
      "(89, 205)\n",
      "(89, 206)\n",
      "(89, 207)\n",
      "(89, 208)\n",
      "(89, 209)\n",
      "(89, 210)\n",
      "(89, 211)\n",
      "(89, 212)\n",
      "(89, 213)\n",
      "(90, 203)\n",
      "(90, 204)\n",
      "(90, 205)\n",
      "(90, 206)\n",
      "(90, 207)\n",
      "(90, 208)\n",
      "(90, 209)\n",
      "(90, 210)\n",
      "(90, 211)\n",
      "(90, 212)\n",
      "(90, 213)\n",
      "(91, 203)\n",
      "(91, 204)\n",
      "(91, 205)\n",
      "(91, 206)\n",
      "(91, 207)\n",
      "(91, 208)\n",
      "(91, 209)\n",
      "(91, 210)\n",
      "(91, 211)\n",
      "(91, 212)\n",
      "(91, 213)\n",
      "(92, 203)\n",
      "(92, 204)\n",
      "(92, 205)\n",
      "(92, 206)\n",
      "(92, 207)\n",
      "(92, 208)\n",
      "(92, 209)\n",
      "(92, 210)\n",
      "(92, 211)\n",
      "(92, 212)\n",
      "(92, 213)\n",
      "(93, 203)\n",
      "(93, 204)\n",
      "(93, 205)\n",
      "(93, 206)\n",
      "(93, 207)\n",
      "(93, 208)\n",
      "(93, 209)\n",
      "(93, 210)\n",
      "(93, 211)\n",
      "(93, 212)\n",
      "(93, 213)\n",
      "(94, 203)\n",
      "(94, 204)\n",
      "(94, 205)\n",
      "(94, 206)\n",
      "(94, 207)\n",
      "(94, 208)\n",
      "(94, 209)\n",
      "(94, 210)\n",
      "(94, 211)\n",
      "(94, 212)\n",
      "(94, 213)\n",
      "(95, 203)\n",
      "(95, 204)\n",
      "(95, 205)\n",
      "(95, 206)\n",
      "(95, 207)\n",
      "(95, 208)\n",
      "(95, 209)\n",
      "(95, 210)\n",
      "(95, 211)\n",
      "(95, 212)\n",
      "(95, 213)\n",
      "(96, 203)\n",
      "(96, 204)\n",
      "(96, 205)\n",
      "(96, 206)\n",
      "(96, 207)\n",
      "(96, 208)\n",
      "(96, 209)\n",
      "(96, 210)\n",
      "(96, 211)\n",
      "(96, 212)\n",
      "(96, 213)\n",
      "(97, 203)\n",
      "(97, 204)\n",
      "(97, 205)\n",
      "(97, 206)\n",
      "(97, 207)\n",
      "(97, 208)\n",
      "(97, 209)\n",
      "(97, 210)\n",
      "(97, 211)\n",
      "(97, 212)\n",
      "(97, 213)\n",
      "(98, 203)\n",
      "(98, 204)\n",
      "(98, 205)\n",
      "(98, 206)\n",
      "(98, 207)\n",
      "(98, 208)\n",
      "(98, 209)\n",
      "(98, 210)\n",
      "(98, 211)\n",
      "(98, 212)\n",
      "(98, 213)\n"
     ]
    }
   ],
   "source": [
    "for coords in c:\n",
    "    X_out = []\n",
    "    print(coords)\n",
    "    for var in X_vars:\n",
    "        X = dset.load_variable_years(var, years, coords)\n",
    "        X_out.append(X)\n",
    "    data = np.stack(X_out, axis=1)\n",
    "    df = pd.DataFrame(data=data)\n",
    "    \n",
    "    df.insert(loc=0,column='time', value=dates)\n",
    "    #df.fillna('NaN')\n",
    "    fname = 'point_93_208/{}_{}.csv'.format(coords[0], coords[1])\n",
    "    df.to_csv(fname, index=False, float_format = \"%.5f\", header=False, sep=',', na_rep='NaN')"
   ]
  },
  {
   "cell_type": "code",
   "execution_count": 18,
   "metadata": {},
   "outputs": [],
   "source": [
    "d=dset.load('thick_cr2smos',2011)\n",
    "d= np.load('/home/hpc-rosneft/nfs/0_42/share_rosneft/data_numpy_dump/thick_cr2smos_2010.npy',allow_pickle=True)"
   ]
  },
  {
   "cell_type": "code",
   "execution_count": null,
   "metadata": {},
   "outputs": [],
   "source": []
  },
  {
   "cell_type": "code",
   "execution_count": null,
   "metadata": {},
   "outputs": [],
   "source": []
  }
 ],
 "metadata": {
  "kernelspec": {
   "display_name": "Python 3",
   "language": "python",
   "name": "python3"
  },
  "language_info": {
   "codemirror_mode": {
    "name": "ipython",
    "version": 3
   },
   "file_extension": ".py",
   "mimetype": "text/x-python",
   "name": "python",
   "nbconvert_exporter": "python",
   "pygments_lexer": "ipython3",
   "version": "3.7.2"
  }
 },
 "nbformat": 4,
 "nbformat_minor": 2
}
