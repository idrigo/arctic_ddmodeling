{
 "cells": [
  {
   "cell_type": "code",
   "execution_count": 1,
   "metadata": {},
   "outputs": [],
   "source": [
    "%matplotlib inline\n",
    "%config InlineBackend.figure_format = 'retina'\n",
    "import matplotlib.pyplot as plt\n",
    "plt.rcParams['figure.figsize'] = [15, 7]\n",
    "import seaborn as sns\n",
    "\n",
    "import netCDF4 as nc\n",
    "import xarray as xr\n",
    "\n",
    "import sys\n",
    "sys.path.append('../')\n",
    "from src.tools import MyNetCDF\n",
    "from src.models import Fitter\n",
    "from sklearn.linear_model import LinearRegression\n",
    "import glob"
   ]
  },
  {
   "cell_type": "code",
   "execution_count": 2,
   "metadata": {},
   "outputs": [],
   "source": [
    "df = xr.open_mfdataset(paths=glob.glob('../data/raw/model/ARCTIC_1h_UV_grid_UV*'))"
   ]
  },
  {
   "cell_type": "code",
   "execution_count": 22,
   "metadata": {},
   "outputs": [
    {
     "name": "stdout",
     "output_type": "stream",
     "text": [
      "\n",
      "  0 -> nominal value from algorithm used\n",
      "  1 -> t2m check indicates possibly false ice\n",
      "  2 -> over lake caused possibly less accurate\n",
      " 10 -> value changed by coast correction method\n",
      " 11 -> value changed by applying maximum climatology\n",
      " 12 -> missing value set by applying maximum climatology\n",
      " 13 -> value set by applying interpolation\n",
      "100 -> missing value due to over land\n",
      "101 -> missing value due to missing data\n"
     ]
    }
   ],
   "source": [
    "print(xr.open_dataset('data/sattelite/conc_y2016.nc')['status_flag'].attrs['flag_descriptions'])"
   ]
  },
  {
   "cell_type": "code",
   "execution_count": 72,
   "metadata": {},
   "outputs": [],
   "source": [
    "ds=xr.open_dataset('testdata/ARCTIC_1h_T_grid_T_20170101-20170101.nc')"
   ]
  },
  {
   "cell_type": "code",
   "execution_count": 73,
   "metadata": {},
   "outputs": [],
   "source": [
    "ds=ds.to_dataframe()\n",
    "ds.reset_index(inplace=True)"
   ]
  },
  {
   "cell_type": "code",
   "execution_count": 76,
   "metadata": {},
   "outputs": [],
   "source": [
    "ds_model = ds[(ds['axis_nbounds']==0) & (ds['deptht'] == ds['deptht'].min())][['time_counter', 'votemper', 'vosaline', 'sossheig']]\n",
    "ds_model.set_index(pd.DatetimeIndex(ds_model['time_counter']), inplace=True)\n",
    "ds_model.drop(['time_counter'], axis=1, inplace=True)"
   ]
  },
  {
   "cell_type": "code",
   "execution_count": 67,
   "metadata": {},
   "outputs": [],
   "source": [
    "X_train = xr.open_dataset('data/sattelite/conc_y2016.nc')\n",
    "ds_sat_conc = X_train.to_dataframe()\n",
    "ds_sat_conc.reset_index(inplace=True)\n",
    "ds_sat_conc.set_index(pd.DatetimeIndex(ds_sat_conc['time']), inplace=True)\n",
    "ds_sat_conc.drop(['time'], axis=1, inplace=True)"
   ]
  },
  {
   "cell_type": "code",
   "execution_count": 79,
   "metadata": {},
   "outputs": [
    {
     "data": {
      "text/plain": [
       "9.98046875"
      ]
     },
     "execution_count": 79,
     "metadata": {},
     "output_type": "execute_result"
    }
   ],
   "source": [
    "28*365/1024"
   ]
  },
  {
   "cell_type": "code",
   "execution_count": null,
   "metadata": {},
   "outputs": [],
   "source": []
  }
 ],
 "metadata": {
  "kernelspec": {
   "display_name": "Python 3",
   "language": "python",
   "name": "python3"
  },
  "language_info": {
   "codemirror_mode": {
    "name": "ipython",
    "version": 3
   },
   "file_extension": ".py",
   "mimetype": "text/x-python",
   "name": "python",
   "nbconvert_exporter": "python",
   "pygments_lexer": "ipython3",
   "version": "3.6.8"
  }
 },
 "nbformat": 4,
 "nbformat_minor": 2
}
