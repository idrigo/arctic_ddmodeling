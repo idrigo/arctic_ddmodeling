{
 "cells": [
  {
   "cell_type": "code",
   "execution_count": 145,
   "metadata": {},
   "outputs": [],
   "source": [
    "%reload_ext autoreload\n",
    "%autoreload 2\n",
    "\n",
    "import warnings\n",
    "warnings.filterwarnings(\"ignore\")\n",
    "\n",
    "import sys\n",
    "sys.path.insert(0,'..')\n",
    "\n",
    "import numpy as np\n",
    "import pandas as pd\n",
    "from sklearn.metrics import mean_squared_error as mse\n",
    "\n",
    "import src.cfg as cfg\n",
    "import src.data as data\n",
    "import src.models as models\n",
    "import src.processing as processing\n",
    "import src.filters as fltr\n",
    "from src.viz import Plot\n",
    "\n",
    "from keras.models import Sequential\n",
    "from keras.layers.convolutional import Conv3D\n",
    "from keras.layers.convolutional_recurrent import ConvLSTM2D\n",
    "from keras.layers.normalization import BatchNormalization\n",
    "\n",
    "import matplotlib as mpl\n",
    "mpl.rcParams['figure.dpi']= 1200\n",
    "%matplotlib inline\n",
    "import matplotlib.pyplot as plt\n",
    "plt.rcParams['figure.figsize'] = [15, 15]\n",
    "plt.rcParams[\"date.autoformatter.year\"] = \"%Y\"\n",
    "from IPython.display import set_matplotlib_formats\n",
    "set_matplotlib_formats('retina')\n",
    "mpl.style.use('seaborn-whitegrid')\n",
    "from mpl_toolkits.basemap import Basemap\n",
    "\n",
    "from sklearn.preprocessing import StandardScaler, MinMaxScaler\n"
   ]
  },
  {
   "cell_type": "code",
   "execution_count": 151,
   "metadata": {},
   "outputs": [],
   "source": [
    "parameters = dict(years_train=list(range(2010, 2012)),\n",
    "                  years_test=[2013],\n",
    "                  X_vars=['icethic_cea', 'vosaline'],\n",
    "                  y_var='hice',\n",
    "                  bounds=[0, 400, 0, 400],\n",
    "                  step=[20, 20],\n",
    "                  dx=5,\n",
    "                  dy=5,\n",
    "                  dt=5,\n",
    "                  n_neurons=20,\n",
    "                  epochs=70,\n",
    "                  batch_size=30,\n",
    "                  loss='mae'\n",
    "                  )\n",
    "\n",
    "y_arr_train, X_arr_train = data.load_features(parameters['y_var'],\n",
    "                                              parameters['X_vars'],\n",
    "                                              parameters['years_train'])\n",
    "\n",
    "y_arr_test, X_arr_test = data.load_features(parameters['y_var'],\n",
    "                                            parameters['X_vars'],\n",
    "                                            parameters['years_test'])"
   ]
  },
  {
   "cell_type": "code",
   "execution_count": 201,
   "metadata": {},
   "outputs": [
    {
     "data": {
      "text/plain": [
       "(730, 452, 406)"
      ]
     },
     "execution_count": 201,
     "metadata": {},
     "output_type": "execute_result"
    }
   ],
   "source": [
    "X_train = np.array(X_arr_train)\n",
    "y_train = np.array(y_arr_train)\n",
    "X_train=np.moveaxis(X_train,0,-1)\n",
    "y_train.shape\n",
    "\n"
   ]
  },
  {
   "cell_type": "code",
   "execution_count": 202,
   "metadata": {},
   "outputs": [],
   "source": [
    "scalers = []\n",
    "for i in range(X_train.shape[0]):\n",
    "#     y_train[i,:,:,:] = MinMaxScaler().fit_transform(y_train[i,:,:,:])\n",
    "    \n",
    "    \n",
    "    for j in range(X_train.shape[-1]):\n",
    "        sc = MinMaxScaler(feature_range=(-1, 1))\n",
    "        scalers.append(sc)\n",
    "        X_train[i,:,:,j] = sc.fit_transform(X_train[i,:,:,j])\n",
    "        y_train[i,:,:] = sc.fit_transform(y_train[i,:,:])"
   ]
  },
  {
   "cell_type": "code",
   "execution_count": 212,
   "metadata": {},
   "outputs": [],
   "source": [
    "y_train = y_train[:,:,:,np.newaxis]\n",
    "X_val = X_train[100:110,:,:,:]\n",
    "y_val = y_train[100:110,:,:,:]\n",
    "\n",
    "X_test = X_train[110:120,:,:,:]\n",
    "y_test = y_train[110:120,:,:,:]\n",
    "\n",
    "X_train = X_train[120:130,:,:,:]\n",
    "y_train = y_train[120:130,:,:,:]"
   ]
  },
  {
   "cell_type": "code",
   "execution_count": 213,
   "metadata": {},
   "outputs": [],
   "source": [
    "y_train[np.isnan(y_train)] = 0\n",
    "y_test[np.isnan(y_test)] = 0\n",
    "y_val[np.isnan(y_val)] = 0\n"
   ]
  },
  {
   "cell_type": "code",
   "execution_count": 146,
   "metadata": {},
   "outputs": [
    {
     "ename": "ValueError",
     "evalue": "Found array with dim 4. MinMaxScaler expected <= 2.",
     "output_type": "error",
     "traceback": [
      "\u001b[0;31m---------------------------------------------------------------------------\u001b[0m",
      "\u001b[0;31mValueError\u001b[0m                                Traceback (most recent call last)",
      "\u001b[0;32m<ipython-input-146-e94ecfa2c068>\u001b[0m in \u001b[0;36m<module>\u001b[0;34m\u001b[0m\n\u001b[0;32m----> 1\u001b[0;31m \u001b[0mscaler\u001b[0m \u001b[0;34m=\u001b[0m \u001b[0mMinMaxScaler\u001b[0m\u001b[0;34m(\u001b[0m\u001b[0mfeature_range\u001b[0m\u001b[0;34m=\u001b[0m\u001b[0;34m(\u001b[0m\u001b[0;34m-\u001b[0m\u001b[0;36m1\u001b[0m\u001b[0;34m,\u001b[0m \u001b[0;36m1\u001b[0m\u001b[0;34m)\u001b[0m\u001b[0;34m)\u001b[0m\u001b[0;34m.\u001b[0m\u001b[0mfit\u001b[0m\u001b[0;34m(\u001b[0m\u001b[0mX_train\u001b[0m\u001b[0;34m)\u001b[0m\u001b[0;34m\u001b[0m\u001b[0;34m\u001b[0m\u001b[0m\n\u001b[0m\u001b[1;32m      2\u001b[0m \u001b[0;34m\u001b[0m\u001b[0m\n\u001b[1;32m      3\u001b[0m \u001b[0mX_test\u001b[0m \u001b[0;34m=\u001b[0m \u001b[0mscaler\u001b[0m\u001b[0;34m.\u001b[0m\u001b[0mtransform\u001b[0m\u001b[0;34m(\u001b[0m\u001b[0mX_test\u001b[0m\u001b[0;34m)\u001b[0m\u001b[0;34m\u001b[0m\u001b[0;34m\u001b[0m\u001b[0m\n\u001b[1;32m      4\u001b[0m \u001b[0my_test\u001b[0m \u001b[0;34m=\u001b[0m \u001b[0mscaler\u001b[0m\u001b[0;34m.\u001b[0m\u001b[0mtransform\u001b[0m\u001b[0;34m(\u001b[0m\u001b[0my_test\u001b[0m\u001b[0;34m)\u001b[0m\u001b[0;34m\u001b[0m\u001b[0;34m\u001b[0m\u001b[0m\n\u001b[1;32m      5\u001b[0m \u001b[0;34m\u001b[0m\u001b[0m\n",
      "\u001b[0;32m~/anaconda3/envs/disser/lib/python3.7/site-packages/sklearn/preprocessing/_data.py\u001b[0m in \u001b[0;36mfit\u001b[0;34m(self, X, y)\u001b[0m\n\u001b[1;32m    337\u001b[0m         \u001b[0;31m# Reset internal state before fitting\u001b[0m\u001b[0;34m\u001b[0m\u001b[0;34m\u001b[0m\u001b[0;34m\u001b[0m\u001b[0m\n\u001b[1;32m    338\u001b[0m         \u001b[0mself\u001b[0m\u001b[0;34m.\u001b[0m\u001b[0m_reset\u001b[0m\u001b[0;34m(\u001b[0m\u001b[0;34m)\u001b[0m\u001b[0;34m\u001b[0m\u001b[0;34m\u001b[0m\u001b[0m\n\u001b[0;32m--> 339\u001b[0;31m         \u001b[0;32mreturn\u001b[0m \u001b[0mself\u001b[0m\u001b[0;34m.\u001b[0m\u001b[0mpartial_fit\u001b[0m\u001b[0;34m(\u001b[0m\u001b[0mX\u001b[0m\u001b[0;34m,\u001b[0m \u001b[0my\u001b[0m\u001b[0;34m)\u001b[0m\u001b[0;34m\u001b[0m\u001b[0;34m\u001b[0m\u001b[0m\n\u001b[0m\u001b[1;32m    340\u001b[0m \u001b[0;34m\u001b[0m\u001b[0m\n\u001b[1;32m    341\u001b[0m     \u001b[0;32mdef\u001b[0m \u001b[0mpartial_fit\u001b[0m\u001b[0;34m(\u001b[0m\u001b[0mself\u001b[0m\u001b[0;34m,\u001b[0m \u001b[0mX\u001b[0m\u001b[0;34m,\u001b[0m \u001b[0my\u001b[0m\u001b[0;34m=\u001b[0m\u001b[0;32mNone\u001b[0m\u001b[0;34m)\u001b[0m\u001b[0;34m:\u001b[0m\u001b[0;34m\u001b[0m\u001b[0;34m\u001b[0m\u001b[0m\n",
      "\u001b[0;32m~/anaconda3/envs/disser/lib/python3.7/site-packages/sklearn/preprocessing/_data.py\u001b[0m in \u001b[0;36mpartial_fit\u001b[0;34m(self, X, y)\u001b[0m\n\u001b[1;32m    371\u001b[0m         X = check_array(X,\n\u001b[1;32m    372\u001b[0m                         \u001b[0mestimator\u001b[0m\u001b[0;34m=\u001b[0m\u001b[0mself\u001b[0m\u001b[0;34m,\u001b[0m \u001b[0mdtype\u001b[0m\u001b[0;34m=\u001b[0m\u001b[0mFLOAT_DTYPES\u001b[0m\u001b[0;34m,\u001b[0m\u001b[0;34m\u001b[0m\u001b[0;34m\u001b[0m\u001b[0m\n\u001b[0;32m--> 373\u001b[0;31m                         force_all_finite=\"allow-nan\")\n\u001b[0m\u001b[1;32m    374\u001b[0m \u001b[0;34m\u001b[0m\u001b[0m\n\u001b[1;32m    375\u001b[0m         \u001b[0mdata_min\u001b[0m \u001b[0;34m=\u001b[0m \u001b[0mnp\u001b[0m\u001b[0;34m.\u001b[0m\u001b[0mnanmin\u001b[0m\u001b[0;34m(\u001b[0m\u001b[0mX\u001b[0m\u001b[0;34m,\u001b[0m \u001b[0maxis\u001b[0m\u001b[0;34m=\u001b[0m\u001b[0;36m0\u001b[0m\u001b[0;34m)\u001b[0m\u001b[0;34m\u001b[0m\u001b[0;34m\u001b[0m\u001b[0m\n",
      "\u001b[0;32m~/anaconda3/envs/disser/lib/python3.7/site-packages/sklearn/utils/validation.py\u001b[0m in \u001b[0;36mcheck_array\u001b[0;34m(array, accept_sparse, accept_large_sparse, dtype, order, copy, force_all_finite, ensure_2d, allow_nd, ensure_min_samples, ensure_min_features, warn_on_dtype, estimator)\u001b[0m\n\u001b[1;32m    572\u001b[0m         \u001b[0;32mif\u001b[0m \u001b[0;32mnot\u001b[0m \u001b[0mallow_nd\u001b[0m \u001b[0;32mand\u001b[0m \u001b[0marray\u001b[0m\u001b[0;34m.\u001b[0m\u001b[0mndim\u001b[0m \u001b[0;34m>=\u001b[0m \u001b[0;36m3\u001b[0m\u001b[0;34m:\u001b[0m\u001b[0;34m\u001b[0m\u001b[0;34m\u001b[0m\u001b[0m\n\u001b[1;32m    573\u001b[0m             raise ValueError(\"Found array with dim %d. %s expected <= 2.\"\n\u001b[0;32m--> 574\u001b[0;31m                              % (array.ndim, estimator_name))\n\u001b[0m\u001b[1;32m    575\u001b[0m \u001b[0;34m\u001b[0m\u001b[0m\n\u001b[1;32m    576\u001b[0m         \u001b[0;32mif\u001b[0m \u001b[0mforce_all_finite\u001b[0m\u001b[0;34m:\u001b[0m\u001b[0;34m\u001b[0m\u001b[0;34m\u001b[0m\u001b[0m\n",
      "\u001b[0;31mValueError\u001b[0m: Found array with dim 4. MinMaxScaler expected <= 2."
     ]
    }
   ],
   "source": [
    "scaler = MinMaxScaler(feature_range=(-1, 1)).fit(X_train)\n",
    "\n",
    "X_test = scaler.transform(X_test)\n",
    "y_test = scaler.transform(y_test)\n",
    "\n",
    "X_val = scaler.transform(X_val)\n",
    "y_val = scaler.transform(y_val)\n",
    "\n",
    "X_train = scaler.transform(X_train)\n",
    "y_train = scaler.transform(y_train)"
   ]
  },
  {
   "cell_type": "code",
   "execution_count": null,
   "metadata": {},
   "outputs": [],
   "source": []
  },
  {
   "cell_type": "code",
   "execution_count": 163,
   "metadata": {},
   "outputs": [],
   "source": [
    "from keras.models import *\n",
    "from keras.layers import *\n",
    "\n",
    "def rainnet(input_shape=(384, 384, 2), mode=\"regression\"):\n",
    "    \"\"\"\n",
    "    The function for building the RainNet (v1.0) model from scratch\n",
    "    using Keras functional API.\n",
    "    Parameters:\n",
    "    input size: tuple(W x H x C), where W (width) and H (height)\n",
    "    describe spatial dimensions of input data (e.g., 928x928 for RY data);\n",
    "    and C (channels) describes temporal (depth) dimension of \n",
    "    input data (e.g., 4 means accounting four latest radar scans at time\n",
    "    t-15, t-10, t-5 minutes, and t)\n",
    "    \n",
    "    mode: \"regression\" (default) or \"segmentation\". \n",
    "    For \"regression\" mode the last activation function is linear, \n",
    "    while for \"segmentation\" it is sigmoid.\n",
    "    To train RainNet to predict continuous precipitation intensities use \n",
    "    \"regression\" mode. \n",
    "    RainNet could be trained to predict the exceedance of specific intensity \n",
    "    thresholds. For that purpose, use \"segmentation\" mode.\n",
    "    \"\"\"\n",
    "\n",
    "    inputs = Input(input_shape)\n",
    "\n",
    "    conv1f = Conv2D(64, 3, padding='same', kernel_initializer='he_normal')(inputs)\n",
    "    conv1f = Activation(\"relu\")(conv1f)\n",
    "    conv1s = Conv2D(64, 3, padding='same', kernel_initializer='he_normal')(conv1f)\n",
    "    conv1s = Activation(\"relu\")(conv1s)\n",
    "    pool1 = MaxPooling2D(pool_size=(2, 2))(conv1s)\n",
    "\n",
    "    conv2f = Conv2D(128, 3, padding='same', kernel_initializer='he_normal')(pool1)\n",
    "    conv2f = Activation(\"relu\")(conv2f)\n",
    "    conv2s = Conv2D(128, 3, padding='same', kernel_initializer='he_normal')(conv2f)\n",
    "    conv2s = Activation(\"relu\")(conv2s)\n",
    "    pool2 = MaxPooling2D(pool_size=(2, 2))(conv2s)\n",
    "\n",
    "    conv3f = Conv2D(256, 3, padding='same', kernel_initializer='he_normal')(pool2)\n",
    "    conv3f = Activation(\"relu\")(conv3f)\n",
    "    conv3s = Conv2D(256, 3, padding='same', kernel_initializer='he_normal')(conv3f)\n",
    "    conv3s = Activation(\"relu\")(conv3s)\n",
    "    pool3 = MaxPooling2D(pool_size=(2, 2))(conv3s)\n",
    "\n",
    "    conv4f = Conv2D(512, 3, padding='same', kernel_initializer='he_normal')(pool3)\n",
    "    conv4f = Activation(\"relu\")(conv4f)\n",
    "    conv4s = Conv2D(512, 3, padding='same', kernel_initializer='he_normal')(conv4f)\n",
    "    conv4s = Activation(\"relu\")(conv4s)\n",
    "    drop4 = Dropout(0.5)(conv4s)\n",
    "    pool4 = MaxPooling2D(pool_size=(2, 2))(drop4)\n",
    "\n",
    "    conv5f = Conv2D(1024, 3, padding='same', kernel_initializer='he_normal')(pool4)\n",
    "    conv5f = Activation(\"relu\")(conv5f)\n",
    "    conv5s = Conv2D(1024, 3, padding='same', kernel_initializer='he_normal')(conv5f)\n",
    "    conv5s = Activation(\"relu\")(conv5s)\n",
    "    drop5 = Dropout(0.5)(conv5s)\n",
    "\n",
    "    up6 = concatenate([UpSampling2D(size=(2, 2))(drop5), conv4s], axis=3)\n",
    "    conv6 = Conv2D(512, 3, padding='same', kernel_initializer='he_normal')(up6)\n",
    "    conv6 = Activation(\"relu\")(conv6)\n",
    "    conv6 = Conv2D(512, 3, padding='same', kernel_initializer='he_normal')(conv6)\n",
    "    conv6 = Activation(\"relu\")(conv6)\n",
    "\n",
    "    up7 = concatenate([UpSampling2D(size=(2, 2))(conv6), conv3s], axis=3)\n",
    "    conv7 = Conv2D(256, 3, padding='same', kernel_initializer='he_normal')(up7)\n",
    "    conv7 = Activation(\"relu\")(conv7)\n",
    "    conv7 = Conv2D(256, 3, padding='same', kernel_initializer='he_normal')(conv7)\n",
    "    conv7 = Activation(\"relu\")(conv7)\n",
    "\n",
    "    up8 = concatenate([UpSampling2D(size=(2, 2))(conv7), conv2s], axis=3)\n",
    "    conv8 = Conv2D(128, 3, padding='same', kernel_initializer='he_normal')(up8)\n",
    "    conv8 = Activation(\"relu\")(conv8)\n",
    "    conv8 = Conv2D(128, 3, padding='same', kernel_initializer='he_normal')(conv8)\n",
    "    conv8 = Activation(\"relu\")(conv8)\n",
    "\n",
    "    up9 = concatenate([UpSampling2D(size=(2, 2))(conv8), conv1s], axis=3)\n",
    "    conv9 = Conv2D(64, 3, padding='same', kernel_initializer='he_normal')(up9)\n",
    "    conv9 = Activation(\"relu\")(conv9)\n",
    "    conv9 = Conv2D(64, 3, padding='same', kernel_initializer='he_normal')(conv9)\n",
    "    conv9 = Activation(\"relu\")(conv9)\n",
    "    conv9 = Conv2D(2, 3, activation='relu', padding='same', kernel_initializer='he_normal')(conv9)\n",
    "    \n",
    "    if mode == \"regression\":\n",
    "        outputs = Conv2D(1, 1, activation='linear')(conv9)\n",
    "    elif mode == \"segmentation\":\n",
    "        outputs = Conv2D(1, 1, activation='sigmoid')(conv9)\n",
    "\n",
    "    model = Model(inputs=inputs, outputs=outputs)\n",
    "\n",
    "    return model"
   ]
  },
  {
   "cell_type": "code",
   "execution_count": 217,
   "metadata": {},
   "outputs": [],
   "source": [
    "model = rainnet()\n",
    "#adam = Adam(lr=0.001, beta_1=0.9, beta_2=0.999, epsilon=1e-08, decay=0.0)\n",
    "from keras import optimizers\n",
    "\n",
    "sgd = optimizers.SGD(lr=0.01, decay=1e-6, momentum=0.9, nesterov=True)\n",
    "model.compile(optimizer=sgd, loss=\"mean_squared_error\", metrics=[\"accuracy\"])"
   ]
  },
  {
   "cell_type": "code",
   "execution_count": 219,
   "metadata": {},
   "outputs": [
    {
     "name": "stdout",
     "output_type": "stream",
     "text": [
      "Train on 10 samples, validate on 10 samples\n",
      "Epoch 1/4\n",
      "10/10 [==============================] - 67s 7s/step - loss: nan - accuracy: 0.0000e+00 - val_loss: nan - val_accuracy: 0.0000e+00\n",
      "Epoch 2/4\n",
      "10/10 [==============================] - 68s 7s/step - loss: nan - accuracy: 0.0000e+00 - val_loss: nan - val_accuracy: 0.0000e+00\n",
      "Epoch 3/4\n",
      "10/10 [==============================] - 68s 7s/step - loss: nan - accuracy: 0.0000e+00 - val_loss: nan - val_accuracy: 0.0000e+00\n",
      "Epoch 4/4\n",
      "10/10 [==============================] - 69s 7s/step - loss: nan - accuracy: 0.0000e+00 - val_loss: nan - val_accuracy: 0.0000e+00\n"
     ]
    }
   ],
   "source": [
    "res=model.fit(x=X_train[:,:384,:384,:], y=y_train[:,:384,:384,:],\n",
    "              validation_data=(X_val[:,:384,:384,:],y_val[:,:384,:384,:]),\n",
    "              batch_size=1,\n",
    "              epochs=4)"
   ]
  },
  {
   "cell_type": "code",
   "execution_count": 220,
   "metadata": {},
   "outputs": [],
   "source": [
    "res = model.predict(X_test[np.newaxis,9,:384,:384,:])"
   ]
  },
  {
   "cell_type": "code",
   "execution_count": 231,
   "metadata": {},
   "outputs": [
    {
     "data": {
      "text/plain": [
       "<matplotlib.image.AxesImage at 0x1a697f7750>"
      ]
     },
     "execution_count": 231,
     "metadata": {},
     "output_type": "execute_result"
    },
    {
     "data": {
      "image/png": "[encoded data removed]",
      "text/plain": [
       "<Figure size 1080x1080 with 1 Axes>"
      ]
     },
     "metadata": {
      "image/png": {
       "height": 845,
       "width": 849
      }
     },
     "output_type": "display_data"
    }
   ],
   "source": [
    "plt.imshow(res[0,:,:,0],vmin=-0.1, vmax=0.1)"
   ]
  },
  {
   "cell_type": "code",
   "execution_count": 232,
   "metadata": {},
   "outputs": [
    {
     "data": {
      "text/plain": [
       "array([[nan, nan, nan, ..., nan, nan, nan],\n",
       "       [nan, nan, nan, ..., nan, nan, nan],\n",
       "       [nan, nan, nan, ..., nan, nan, nan],\n",
       "       ...,\n",
       "       [nan, nan, nan, ..., nan, nan, nan],\n",
       "       [nan, nan, nan, ..., nan, nan, nan],\n",
       "       [nan, nan, nan, ..., nan, nan, nan]], dtype=float32)"
      ]
     },
     "execution_count": 232,
     "metadata": {},
     "output_type": "execute_result"
    }
   ],
   "source": [
    "res[0,:,:,0]"
   ]
  },
  {
   "cell_type": "code",
   "execution_count": 222,
   "metadata": {},
   "outputs": [
    {
     "data": {
      "text/plain": [
       "nan"
      ]
     },
     "execution_count": 222,
     "metadata": {},
     "output_type": "execute_result"
    }
   ],
   "source": [
    "np.max(res[0,:,:,0])"
   ]
  },
  {
   "cell_type": "code",
   "execution_count": 223,
   "metadata": {},
   "outputs": [
    {
     "data": {
      "text/plain": [
       "-0.12996127"
      ]
     },
     "execution_count": 223,
     "metadata": {},
     "output_type": "execute_result"
    }
   ],
   "source": [
    "X_test[5,:,:,1].mean()"
   ]
  },
  {
   "cell_type": "code",
   "execution_count": 228,
   "metadata": {},
   "outputs": [
    {
     "data": {
      "text/plain": [
       "(1, 384, 384, 1)"
      ]
     },
     "execution_count": 228,
     "metadata": {},
     "output_type": "execute_result"
    }
   ],
   "source": [
    "res.shape"
   ]
  },
  {
   "cell_type": "code",
   "execution_count": null,
   "metadata": {},
   "outputs": [],
   "source": []
  }
 ],
 "metadata": {
  "kernelspec": {
   "display_name": "Python 3",
   "language": "python",
   "name": "python3"
  },
  "language_info": {
   "codemirror_mode": {
    "name": "ipython",
    "version": 3
   },
   "file_extension": ".py",
   "mimetype": "text/x-python",
   "name": "python",
   "nbconvert_exporter": "python",
   "pygments_lexer": "ipython3",
   "version": "3.7.6"
  }
 },
 "nbformat": 4,
 "nbformat_minor": 4
}
