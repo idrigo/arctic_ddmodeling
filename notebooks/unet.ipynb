{
  "nbformat": 4,
  "nbformat_minor": 0,
  "metadata": {
    "colab": {
      "name": "unet.ipynb",
      "provenance": [],
      "collapsed_sections": [],
      "machine_shape": "hm"
    },
    "kernelspec": {
      "name": "python3",
      "display_name": "Python 3"
    },
    "accelerator": "GPU"
  },
  "cells": [
    {
      "cell_type": "code",
      "metadata": {
        "id": "IgVz3P2BjLV4",
        "colab_type": "code",
        "outputId": "6a6cb73f-3a25-4f4b-bdb3-64e054bf4621",
        "colab": {
          "base_uri": "https://localhost:8080/",
          "height": 34
        }
      },
      "source": [
        "from tensorflow.keras.optimizers import *\n",
        "from tensorflow.keras import optimizers\n",
        "from tensorflow.keras import backend as K\n",
        "from tensorflow.keras import callbacks\n",
        "\n",
        "from tensorflow.keras.models import load_model\n",
        "from tensorflow.keras.models import *\n",
        "from tensorflow.keras.layers import *\n",
        "from keras.utils import Sequence\n",
        "\n",
        "import numpy as np\n",
        "import matplotlib.pyplot as plt"
      ],
      "execution_count": 1,
      "outputs": [
        {
          "output_type": "stream",
          "text": [
            "Using TensorFlow backend.\n"
          ],
          "name": "stderr"
        }
      ]
    },
    {
      "cell_type": "code",
      "metadata": {
        "id": "S9g3LcrilDS6",
        "colab_type": "code",
        "outputId": "85f7a23f-f4a8-4c36-f2ed-3ab724b78da5",
        "colab": {
          "base_uri": "https://localhost:8080/",
          "height": 34
        }
      },
      "source": [
        "import tensorflow as tf\n",
        "tf.test.gpu_device_name()"
      ],
      "execution_count": 2,
      "outputs": [
        {
          "output_type": "execute_result",
          "data": {
            "text/plain": [
              "'/device:GPU:0'"
            ]
          },
          "metadata": {
            "tags": []
          },
          "execution_count": 2
        }
      ]
    },
    {
      "cell_type": "code",
      "metadata": {
        "id": "9VcLlHLvnS_0",
        "colab_type": "code",
        "outputId": "0e253330-1d8f-4c33-be4c-f02d28067ee6",
        "colab": {
          "base_uri": "https://localhost:8080/",
          "height": 54
        }
      },
      "source": [
        "from google.colab import drive\n",
        "drive.mount('/content/drive')"
      ],
      "execution_count": 3,
      "outputs": [
        {
          "output_type": "stream",
          "text": [
            "Drive already mounted at /content/drive; to attempt to forcibly remount, call drive.mount(\"/content/drive\", force_remount=True).\n"
          ],
          "name": "stdout"
        }
      ]
    },
    {
      "cell_type": "code",
      "metadata": {
        "id": "qpY39ytp5mcT",
        "colab_type": "code",
        "colab": {}
      },
      "source": [
        "X_train = np.load('/content/drive/My Drive/data/X_train2010-2013.npy', allow_pickle=True)\n",
        "X_test = np.load('/content/drive/My Drive/data/X_test2014.npy', allow_pickle=True)\n",
        "X_val = np.load('/content/drive/My Drive/data/X_val.npy',allow_pickle=True)\n",
        "\n",
        "y_train = np.load('/content/drive/My Drive/data/y_train.npy', allow_pickle=True)\n",
        "y_val = np.load('/content/drive/My Drive/data/y_val.npy', allow_pickle=True)\n",
        "y_test = np.load('/content/drive/My Drive/data/y_test.npy', allow_pickle=True)"
      ],
      "execution_count": 0,
      "outputs": []
    },
    {
      "cell_type": "code",
      "metadata": {
        "id": "4a-Lq-oT6JfG",
        "colab_type": "code",
        "colab": {}
      },
      "source": [
        "# shpY = (100,260) #\n",
        "# shpX = (150,342) # \n",
        "# shpY = (122,282) #100-300\n",
        "# shpX = (182,342) #150-350 \n",
        "# shpY = (0,448) #\n",
        "# shpX = (0,384) # \n",
        "\n",
        "# assert (shpX[1]-shpX[0])%32==0\n",
        "# assert (shpY[1]-shpY[0])%32==0\n",
        "X_val = np.load('/content/drive/My Drive/data/X_val.npy',allow_pickle=True)\n"
      ],
      "execution_count": 0,
      "outputs": []
    },
    {
      "cell_type": "code",
      "metadata": {
        "id": "Kf6hH-lN-GkP",
        "colab_type": "code",
        "colab": {
          "base_uri": "https://localhost:8080/",
          "height": 139
        },
        "outputId": "6d331ea2-de61-4477-8f4c-557c973a2a93"
      },
      "source": [
        "def apply2dmask(array3d, mask2d):\n",
        "    mask = np.broadcast_to(mask2d, array3d.shape)\n",
        "    array3d[mask]=np.nan\n",
        "    res = array3d\n",
        "    return res\n",
        "land_mask = np.load('/content/drive/My Drive/data/mask.npy', allow_pickle=True)\n",
        "\n",
        "def preprocess_Xarray(array):\n",
        "  for i in range(array.shape[-1]):\n",
        "    array[:,:,:,i] = apply2dmask(array[:,:,:,i], land_mask)\n",
        "\n",
        "\n",
        "  for i in range(array.shape[0]):\n",
        "    for j in range(array.shape[-1]):\n",
        "      array[i,:,:,j] = (array[i,:,:,j] - np.nanmean(array[i,:,:,j], axis=0))/np.nanstd(array[i,:,:,j], axis=0)\n",
        "      \n",
        "  padY = 32 - (array.shape[1] % 32)\n",
        "  padX = 32 - (array.shape[2] % 32)\n",
        "  array = np.pad(array, [(0,0),(0, padY), (0, padX),(0,0)], mode='constant', constant_values=np.nan)\n",
        "  \n",
        "  array[np.isnan(array)] = -1\n",
        "  assert (array.shape[1])%32==0\n",
        "  assert (array.shape[2])%32==0\n",
        "  \n",
        "  return array\n",
        "\n",
        "X_train_proc = preprocess_Xarray(X_train)\n",
        "X_test_proc = preprocess_Xarray(X_test)\n",
        "X_val_proc = preprocess_Xarray(X_val)\n"
      ],
      "execution_count": 7,
      "outputs": [
        {
          "output_type": "stream",
          "text": [
            "/usr/local/lib/python3.6/dist-packages/ipykernel_launcher.py:15: RuntimeWarning: Mean of empty slice\n",
            "  from ipykernel import kernelapp as app\n",
            "/usr/local/lib/python3.6/dist-packages/numpy/lib/nanfunctions.py:1667: RuntimeWarning: Degrees of freedom <= 0 for slice.\n",
            "  keepdims=keepdims)\n",
            "/usr/local/lib/python3.6/dist-packages/ipykernel_launcher.py:15: RuntimeWarning: invalid value encountered in true_divide\n",
            "  from ipykernel import kernelapp as app\n"
          ],
          "name": "stderr"
        }
      ]
    },
    {
      "cell_type": "code",
      "metadata": {
        "id": "X4e8AIMtB1H-",
        "colab_type": "code",
        "colab": {}
      },
      "source": [
        "def preprocessYarray(array):\n",
        "  array = apply2dmask(array[:,:,:,0], land_mask)\n",
        "\n",
        "  padY = 32 - (array.shape[1] % 32)\n",
        "  padX = 32 - (array.shape[2] % 32)\n",
        "  array = np.pad(array, [(0,0),(0, padY), (0, padX)], mode='constant', constant_values=np.nan)\n",
        "  array[np.isnan(array)] = -1\n",
        "  return array[:,:,:,np.newaxis]\n",
        "  \n",
        "y_train_proc = preprocessYarray(y_train)\n",
        "y_test_proc = preprocessYarray(y_test)\n",
        "y_val_proc = preprocessYarray(y_val)\n"
      ],
      "execution_count": 0,
      "outputs": []
    },
    {
      "cell_type": "code",
      "metadata": {
        "id": "4MPSQmCGk33K",
        "colab_type": "code",
        "colab": {}
      },
      "source": [
        "def rainnet(input_shape=(448, 384, 2), mode=\"regression\"):\n",
        "    \"\"\"\n",
        "    The function for building the RainNet (v1.0) model from scratch\n",
        "    using Keras functional API.\n",
        "    Parameters:\n",
        "    input size: tuple(W x H x C), where W (width) and H (height)\n",
        "    describe spatial dimensions of input data (e.g., 928x928 for RY data);\n",
        "    and C (channels) describes temporal (depth) dimension of \n",
        "    input data (e.g., 4 means accounting four latest radar scans at time\n",
        "    t-15, t-10, t-5 minutes, and t)\n",
        "    \n",
        "    mode: \"regression\" (default) or \"segmentation\". \n",
        "    For \"regression\" mode the last activation function is linear, \n",
        "    while for \"segmentation\" it is sigmoid.\n",
        "    To train RainNet to predict continuous precipitation intensities use \n",
        "    \"regression\" mode. \n",
        "    RainNet could be trained to predict the exceedance of specific intensity \n",
        "    thresholds. For that purpose, use \"segmentation\" mode.\n",
        "    \"\"\"\n",
        "\n",
        "    inputs = Input(input_shape)\n",
        "    mask = Masking(mask_value=-1)(inputs)\n",
        "    conv1f = Conv2D(64, 3, padding='same', kernel_initializer='he_normal')(mask)\n",
        "    conv1f = Activation(\"relu\")(conv1f)\n",
        "    conv1s = Conv2D(64, 3, padding='same', kernel_initializer='he_normal')(conv1f)\n",
        "    conv1s = Activation(\"relu\")(conv1s)\n",
        "    pool1 = MaxPooling2D(pool_size=(2, 2))(conv1s)\n",
        "\n",
        "    conv2f = Conv2D(128, 3, padding='same', kernel_initializer='he_normal')(pool1)\n",
        "    conv2f = Activation(\"relu\")(conv2f)\n",
        "    conv2s = Conv2D(128, 3, padding='same', kernel_initializer='he_normal')(conv2f)\n",
        "    conv2s = Activation(\"relu\")(conv2s)\n",
        "    pool2 = MaxPooling2D(pool_size=(2, 2))(conv2s)\n",
        "\n",
        "    conv3f = Conv2D(256, 3, padding='same', kernel_initializer='he_normal')(pool2)\n",
        "    conv3f = Activation(\"relu\")(conv3f)\n",
        "    conv3s = Conv2D(256, 3, padding='same', kernel_initializer='he_normal')(conv3f)\n",
        "    conv3s = Activation(\"relu\")(conv3s)\n",
        "    pool3 = MaxPooling2D(pool_size=(2, 2))(conv3s)\n",
        "\n",
        "    conv4f = Conv2D(512, 3, padding='same', kernel_initializer='he_normal')(pool3)\n",
        "    conv4f = Activation(\"relu\")(conv4f)\n",
        "    conv4s = Conv2D(512, 3, padding='same', kernel_initializer='he_normal')(conv4f)\n",
        "    conv4s = Activation(\"relu\")(conv4s)\n",
        "    drop4 = Dropout(0.5)(conv4s)\n",
        "    pool4 = MaxPooling2D(pool_size=(2, 2))(drop4)\n",
        "\n",
        "    conv5f = Conv2D(1024, 3, padding='same', kernel_initializer='he_normal')(pool4)\n",
        "    conv5f = Activation(\"relu\")(conv5f)\n",
        "    conv5s = Conv2D(1024, 3, padding='same', kernel_initializer='he_normal')(conv5f)\n",
        "    conv5s = Activation(\"relu\")(conv5s)\n",
        "    drop5 = Dropout(0.5)(conv5s)\n",
        "\n",
        "    up6 = concatenate([UpSampling2D(size=(2, 2))(drop5), conv4s], axis=3)\n",
        "    conv6 = Conv2D(512, 3, padding='same', kernel_initializer='he_normal')(up6)\n",
        "    conv6 = Activation(\"relu\")(conv6)\n",
        "    conv6 = Conv2D(512, 3, padding='same', kernel_initializer='he_normal')(conv6)\n",
        "    conv6 = Activation(\"relu\")(conv6)\n",
        "\n",
        "    up7 = concatenate([UpSampling2D(size=(2, 2))(conv6), conv3s], axis=3)\n",
        "    conv7 = Conv2D(256, 3, padding='same', kernel_initializer='he_normal')(up7)\n",
        "    conv7 = Activation(\"relu\")(conv7)\n",
        "    conv7 = Conv2D(256, 3, padding='same', kernel_initializer='he_normal')(conv7)\n",
        "    conv7 = Activation(\"relu\")(conv7)\n",
        "\n",
        "    up8 = concatenate([UpSampling2D(size=(2, 2))(conv7), conv2s], axis=3)\n",
        "    conv8 = Conv2D(128, 3, padding='same', kernel_initializer='he_normal')(up8)\n",
        "    conv8 = Activation(\"relu\")(conv8)\n",
        "    conv8 = Conv2D(128, 3, padding='same', kernel_initializer='he_normal')(conv8)\n",
        "    conv8 = Activation(\"relu\")(conv8)\n",
        "\n",
        "    up9 = concatenate([UpSampling2D(size=(2, 2))(conv8), conv1s], axis=3)\n",
        "    conv9 = Conv2D(64, 3, padding='same', kernel_initializer='he_normal')(up9)\n",
        "    conv9 = Activation(\"relu\")(conv9)\n",
        "    conv9 = Conv2D(64, 3, padding='same', kernel_initializer='he_normal')(conv9)\n",
        "    conv9 = Activation(\"relu\")(conv9)\n",
        "    conv9 = Conv2D(2, 3, activation='relu', padding='same', kernel_initializer='he_normal')(conv9)\n",
        "    \n",
        "    if mode == \"regression\":\n",
        "        outputs = Conv2D(1, 1, activation='linear')(conv9)\n",
        "    elif mode == \"segmentation\":\n",
        "        outputs = Conv2D(1, 1, activation='sigmoid')(conv9)\n",
        "\n",
        "    model = Model(inputs=inputs, outputs=outputs)\n",
        "\n",
        "    return model"
      ],
      "execution_count": 0,
      "outputs": []
    },
    {
      "cell_type": "code",
      "metadata": {
        "id": "uTHkif1knwrO",
        "colab_type": "code",
        "outputId": "3505b231-9760-46cc-b300-723e9ff0b913",
        "colab": {
          "base_uri": "https://localhost:8080/",
          "height": 887
        }
      },
      "source": [
        "model = rainnet(input_shape=(X_train_proc.shape[1],X_train_proc.shape[2],X_train_proc.shape[-1]))\n",
        "def root_mean_squared_error_masked(y_true, y_pred):\n",
        "  # mask_value = K.variable(-1)\n",
        "  # mask = K.all(K.equal(y_true, mask_value), axis=-1)\n",
        "  # mask = 1 - K.cast(mask, K.floatx())\n",
        "  \n",
        "  y_true_masked = K.gather(error, K.where(K.not_equal(y_true, -1)))\n",
        "  loss = K.sqrt(K.mean(K.square(y_pred - y_true_masked), axis=-1))\n",
        "  return loss\n",
        "\n",
        "def root_mean_squared_error(y_true, y_pred):\n",
        "  loss = K.sqrt(K.mean(K.square(y_pred - y_true), axis=-1))\n",
        "  return loss\n",
        "\n",
        "model.compile(optimizer=Adam(lr=1e-04), loss='logcosh', metrics = root_mean_squared_error)\n",
        "hist = model.fit(x=X_train_proc,\n",
        "               y=y_train_proc,\n",
        "               validation_data=(X_val_proc,\n",
        "                                y_val_proc),\n",
        "               batch_size=4,\n",
        "               epochs=25,\n",
        "               callbacks=[callbacks.ModelCheckpoint('/content/drive/My Drive/data/model_fulldom_2.h5', save_best_only=True), \n",
        "                          PlotLossesKeras()])"
      ],
      "execution_count": 12,
      "outputs": [
        {
          "output_type": "stream",
          "text": [
            "Epoch 1/25\n",
            "353/353 [==============================] - 151s 428ms/step - loss: 0.1981 - root_mean_squared_error: 0.4381 - val_loss: 0.1277 - val_root_mean_squared_error: 0.4107\n",
            "Epoch 2/25\n",
            "353/353 [==============================] - 147s 417ms/step - loss: 0.1288 - root_mean_squared_error: 0.2676 - val_loss: 0.1016 - val_root_mean_squared_error: 0.3259\n",
            "Epoch 3/25\n",
            "353/353 [==============================] - 147s 415ms/step - loss: 0.1221 - root_mean_squared_error: 0.2540 - val_loss: 0.0888 - val_root_mean_squared_error: 0.2694\n",
            "Epoch 4/25\n",
            "353/353 [==============================] - 143s 405ms/step - loss: 0.1174 - root_mean_squared_error: 0.2458 - val_loss: 0.1013 - val_root_mean_squared_error: 0.3290\n",
            "Epoch 5/25\n",
            "353/353 [==============================] - 147s 415ms/step - loss: 0.1148 - root_mean_squared_error: 0.2504 - val_loss: 0.0836 - val_root_mean_squared_error: 0.2562\n",
            "Epoch 6/25\n",
            "353/353 [==============================] - 146s 415ms/step - loss: 0.1101 - root_mean_squared_error: 0.2396 - val_loss: 0.0726 - val_root_mean_squared_error: 0.2056\n",
            "Epoch 7/25\n",
            "353/353 [==============================] - 147s 415ms/step - loss: 0.1051 - root_mean_squared_error: 0.2225 - val_loss: 0.0682 - val_root_mean_squared_error: 0.1958\n",
            "Epoch 8/25\n",
            "353/353 [==============================] - 146s 415ms/step - loss: 0.1004 - root_mean_squared_error: 0.2116 - val_loss: 0.0640 - val_root_mean_squared_error: 0.1878\n",
            "Epoch 9/25\n",
            "353/353 [==============================] - 147s 416ms/step - loss: 0.0967 - root_mean_squared_error: 0.2087 - val_loss: 0.0607 - val_root_mean_squared_error: 0.1864\n",
            "Epoch 10/25\n",
            "353/353 [==============================] - 147s 416ms/step - loss: 0.0923 - root_mean_squared_error: 0.1989 - val_loss: 0.0564 - val_root_mean_squared_error: 0.1709\n",
            "Epoch 11/25\n",
            "353/353 [==============================] - 147s 416ms/step - loss: 0.0885 - root_mean_squared_error: 0.1924 - val_loss: 0.0533 - val_root_mean_squared_error: 0.1640\n",
            "Epoch 12/25\n",
            "353/353 [==============================] - 147s 416ms/step - loss: 0.0849 - root_mean_squared_error: 0.1865 - val_loss: 0.0496 - val_root_mean_squared_error: 0.1531\n",
            "Epoch 13/25\n",
            "353/353 [==============================] - 143s 405ms/step - loss: 0.0812 - root_mean_squared_error: 0.1769 - val_loss: 0.0623 - val_root_mean_squared_error: 0.2642\n",
            "Epoch 14/25\n",
            "353/353 [==============================] - 146s 415ms/step - loss: 0.0781 - root_mean_squared_error: 0.1779 - val_loss: 0.0440 - val_root_mean_squared_error: 0.1414\n",
            "Epoch 15/25\n",
            "353/353 [==============================] - 146s 414ms/step - loss: 0.0747 - root_mean_squared_error: 0.1694 - val_loss: 0.0410 - val_root_mean_squared_error: 0.1351\n",
            "Epoch 16/25\n",
            "353/353 [==============================] - 147s 417ms/step - loss: 0.0718 - root_mean_squared_error: 0.1655 - val_loss: 0.0382 - val_root_mean_squared_error: 0.1266\n",
            "Epoch 17/25\n",
            "353/353 [==============================] - 146s 415ms/step - loss: 0.0685 - root_mean_squared_error: 0.1582 - val_loss: 0.0361 - val_root_mean_squared_error: 0.1259\n",
            "Epoch 18/25\n",
            "353/353 [==============================] - 146s 415ms/step - loss: 0.0656 - root_mean_squared_error: 0.1538 - val_loss: 0.0335 - val_root_mean_squared_error: 0.1152\n",
            "Epoch 19/25\n",
            "353/353 [==============================] - 143s 405ms/step - loss: 0.0628 - root_mean_squared_error: 0.1478 - val_loss: 0.0437 - val_root_mean_squared_error: 0.2197\n",
            "Epoch 20/25\n",
            "353/353 [==============================] - 146s 415ms/step - loss: 0.0602 - root_mean_squared_error: 0.1467 - val_loss: 0.0297 - val_root_mean_squared_error: 0.1079\n",
            "Epoch 21/25\n",
            "353/353 [==============================] - 146s 415ms/step - loss: 0.0574 - root_mean_squared_error: 0.1392 - val_loss: 0.0274 - val_root_mean_squared_error: 0.1009\n",
            "Epoch 22/25\n",
            "353/353 [==============================] - 147s 416ms/step - loss: 0.0549 - root_mean_squared_error: 0.1350 - val_loss: 0.0257 - val_root_mean_squared_error: 0.0991\n",
            "Epoch 23/25\n",
            "353/353 [==============================] - 147s 416ms/step - loss: 0.0525 - root_mean_squared_error: 0.1319 - val_loss: 0.0245 - val_root_mean_squared_error: 0.0967\n",
            "Epoch 24/25\n",
            "353/353 [==============================] - 147s 416ms/step - loss: 0.0500 - root_mean_squared_error: 0.1248 - val_loss: 0.0225 - val_root_mean_squared_error: 0.0890\n",
            "Epoch 25/25\n",
            "353/353 [==============================] - 146s 415ms/step - loss: 0.0480 - root_mean_squared_error: 0.1252 - val_loss: 0.0213 - val_root_mean_squared_error: 0.0906\n"
          ],
          "name": "stdout"
        }
      ]
    },
    {
      "cell_type": "code",
      "metadata": {
        "id": "E_u0QHXuBEzn",
        "colab_type": "code",
        "outputId": "fdf55ffb-de10-4978-e143-9fdb89414ba2",
        "colab": {
          "base_uri": "https://localhost:8080/",
          "height": 282
        }
      },
      "source": [
        "import matplotlib.pyplot as plt\n",
        "\n",
        "plt.plot(hist.history['val_loss'],label='val')\n",
        "plt.plot(hist.history['loss'],label='loss')\n",
        "plt.legend()"
      ],
      "execution_count": 13,
      "outputs": [
        {
          "output_type": "execute_result",
          "data": {
            "text/plain": [
              "<matplotlib.legend.Legend at 0x7f599e3087f0>"
            ]
          },
          "metadata": {
            "tags": []
          },
          "execution_count": 13
        },
        {
          "output_type": "display_data",
          "data": {
            "image/png": "[encoded data removed]",
            "text/plain": [
              "<Figure size 432x288 with 1 Axes>"
            ]
          },
          "metadata": {
            "tags": [],
            "needs_background": "light"
          }
        }
      ]
    },
    {
      "cell_type": "code",
      "metadata": {
        "id": "e_tgk161JnPM",
        "colab_type": "code",
        "colab": {
          "base_uri": "https://localhost:8080/",
          "height": 241
        },
        "outputId": "737a72fc-23cf-4395-935f-8ed78906d78f"
      },
      "source": [
        "from tensorflow.keras.models import load_model\n",
        "import matplotlib.pyplot as plt\n",
        "def root_mean_squared_error(y_true, y_pred):\n",
        "  loss = K.sqrt(K.mean(K.square(y_pred - y_true), axis=-1))\n",
        "  return loss\n",
        "model = load_model('/content/drive/My Drive/data/model_fulldom_3_continue_2.h5', custom_objects={'root_mean_squared_error': root_mean_squared_error})\n",
        "\n",
        "hist = model.fit(x=X_train_proc,\n",
        "               y=y_train_proc,\n",
        "               validation_data=(X_val_proc,\n",
        "                                y_val_proc),\n",
        "               batch_size=2,\n",
        "               epochs=25,\n",
        "               callbacks=[callbacks.ModelCheckpoint('/content/drive/My Drive/data/model_fulldom_3_continue_3.h5', save_best_only=True)])"
      ],
      "execution_count": 0,
      "outputs": [
        {
          "output_type": "stream",
          "text": [
            "Epoch 1/25\n",
            "706/706 [==============================] - 153s 216ms/step - loss: 0.0060 - root_mean_squared_error: 0.0338 - val_loss: 0.0028 - val_root_mean_squared_error: 0.0345\n",
            "Epoch 2/25\n",
            "706/706 [==============================] - 149s 211ms/step - loss: 0.0062 - root_mean_squared_error: 0.0356 - val_loss: 0.0036 - val_root_mean_squared_error: 0.0494\n",
            "Epoch 3/25\n",
            "706/706 [==============================] - 149s 211ms/step - loss: 0.0058 - root_mean_squared_error: 0.0340 - val_loss: 0.0034 - val_root_mean_squared_error: 0.0484\n",
            "Epoch 4/25\n",
            "706/706 [==============================] - 153s 217ms/step - loss: 0.0058 - root_mean_squared_error: 0.0344 - val_loss: 0.0027 - val_root_mean_squared_error: 0.0343\n",
            "Epoch 5/25\n",
            "706/706 [==============================] - 152s 215ms/step - loss: 0.0057 - root_mean_squared_error: 0.0345 - val_loss: 0.0025 - val_root_mean_squared_error: 0.0326\n",
            "Epoch 6/25\n",
            "414/706 [================>.............] - ETA: 1:00 - loss: 0.0073 - root_mean_squared_error: 0.0378"
          ],
          "name": "stdout"
        }
      ]
    },
    {
      "cell_type": "code",
      "metadata": {
        "id": "ouZAQVsg46xl",
        "colab_type": "code",
        "colab": {
          "base_uri": "https://localhost:8080/",
          "height": 286
        },
        "outputId": "ffcf3012-707c-48df-c688-44b9b4560e91"
      },
      "source": [
        "res = model.predict(X_test_proc[np.newaxis,10, :,:,:])\n",
        "plt.imshow(res[0,:,:,0], vmin=0.5, vmax=2)"
      ],
      "execution_count": 12,
      "outputs": [
        {
          "output_type": "execute_result",
          "data": {
            "text/plain": [
              "<matplotlib.image.AxesImage at 0x7fdbc28e2a58>"
            ]
          },
          "metadata": {
            "tags": []
          },
          "execution_count": 12
        },
        {
          "output_type": "display_data",
          "data": {
            "image/png": "[encoded data removed]",
            "text/plain": [
              "<Figure size 432x288 with 1 Axes>"
            ]
          },
          "metadata": {
            "tags": [],
            "needs_background": "light"
          }
        }
      ]
    },
    {
      "cell_type": "code",
      "metadata": {
        "id": "gzbx_cjQ5NvQ",
        "colab_type": "code",
        "colab": {
          "base_uri": "https://localhost:8080/",
          "height": 286
        },
        "outputId": "45409cac-6a10-4b36-8662-4c995d71d84e"
      },
      "source": [
        "plt.imshow(y_test_proc[10,:,:,0], vmin=0.5, vmax=2)"
      ],
      "execution_count": 15,
      "outputs": [
        {
          "output_type": "execute_result",
          "data": {
            "text/plain": [
              "<matplotlib.image.AxesImage at 0x7fdbbfe42b00>"
            ]
          },
          "metadata": {
            "tags": []
          },
          "execution_count": 15
        },
        {
          "output_type": "display_data",
          "data": {
            "image/png": "[encoded data removed]",
            "text/plain": [
              "<Figure size 432x288 with 1 Axes>"
            ]
          },
          "metadata": {
            "tags": [],
            "needs_background": "light"
          }
        }
      ]
    },
    {
      "cell_type": "code",
      "metadata": {
        "id": "E-QTffXi5rhs",
        "colab_type": "code",
        "colab": {}
      },
      "source": [
        ""
      ],
      "execution_count": 0,
      "outputs": []
    }
  ]
}