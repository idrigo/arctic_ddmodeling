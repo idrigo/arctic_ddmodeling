{
 "cells": [
  {
   "cell_type": "code",
   "execution_count": 5,
   "metadata": {},
   "outputs": [],
   "source": [
    "%matplotlib inline\n",
    "%config InlineBackend.figure_format = 'retina'\n",
    "import matplotlib.pyplot as plt\n",
    "plt.rcParams['figure.figsize'] = [15, 7]\n",
    "import seaborn as sns\n",
    "\n",
    "import netCDF4 as nc\n",
    "import xarray as xr\n",
    "\n",
    "from src.netcdftools import *\n",
    "from src.models import Fitter\n",
    "from sklearn.linear_model import LinearRegression\n",
    "import glob"
   ]
  },
  {
   "cell_type": "code",
   "execution_count": 6,
   "metadata": {},
   "outputs": [],
   "source": [
    "thick = SatelliteNC(path='/Users/drigo/ITMO/_disser/surrogate/data/raw/sattelite/ice_thick_y2016.nc',\n",
    "                variable='Thickness')\n",
    "conc = SatelliteNC(path='/Users/drigo/ITMO/_disser/surrogate/data/raw/sattelite/conc_y2016.nc',\n",
    "               variable='ice_conc')"
   ]
  },
  {
   "cell_type": "code",
   "execution_count": 8,
   "metadata": {},
   "outputs": [],
   "source": []
  },
  {
   "cell_type": "code",
   "execution_count": null,
   "metadata": {},
   "outputs": [],
   "source": []
  }
 ],
 "metadata": {
  "kernelspec": {
   "display_name": "Python 3",
   "language": "python",
   "name": "python3"
  },
  "language_info": {
   "codemirror_mode": {
    "name": "ipython",
    "version": 3
   },
   "file_extension": ".py",
   "mimetype": "text/x-python",
   "name": "python",
   "nbconvert_exporter": "python",
   "pygments_lexer": "ipython3",
   "version": "3.6.8"
  }
 },
 "nbformat": 4,
 "nbformat_minor": 2
}
